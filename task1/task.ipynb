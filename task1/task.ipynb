{
 "cells": [
  {
   "cell_type": "code",
   "execution_count": 25,
   "id": "fecd482e",
   "metadata": {},
   "outputs": [
    {
     "name": "stdout",
     "output_type": "stream",
     "text": [
      "7567\n"
     ]
    }
   ],
   "source": [
    "import csv\n",
    "file_1 = csv.reader(open(\"file_1.csv\"), delimiter=\";\", quotechar='\"')\n",
    "file_2 = csv.reader(open(\"file_2.csv\"), delimiter=\";\", quotechar='\"')\n",
    "coords = [row for row in file_2][0]\n",
    "x = int(coords[0])\n",
    "y = int(coords[1])\n",
    "data = [row for row in file_1]\n",
    "print(data[x][y])"
   ]
  }
 ],
 "metadata": {
  "kernelspec": {
   "display_name": "Python 3 (ipykernel)",
   "language": "python",
   "name": "python3"
  },
  "language_info": {
   "codemirror_mode": {
    "name": "ipython",
    "version": 3
   },
   "file_extension": ".py",
   "mimetype": "text/x-python",
   "name": "python",
   "nbconvert_exporter": "python",
   "pygments_lexer": "ipython3",
   "version": "3.11.5"
  }
 },
 "nbformat": 4,
 "nbformat_minor": 5
}
