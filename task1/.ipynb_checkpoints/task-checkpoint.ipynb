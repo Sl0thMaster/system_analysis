{
 "cells": [
  {
   "cell_type": "code",
   "execution_count": 15,
   "id": "fecd482e",
   "metadata": {},
   "outputs": [
    {
     "name": "stdout",
     "output_type": "stream",
     "text": [
      "Таблица 1(данные): \n",
      "Amy Lopez              Keith Jackson              Ronald Ward              \n",
      "Ana King              Ann Mendez              Debra Carpenter              \n",
      "Martha Salazar              Cynthia McCarthy              Steven Marshall              \n",
      "Matthew Davis              Larry Martin              Steve Young              \n",
      "Phillip Thompson              William Ramos              Marie Green              \n",
      "Таблица 2(координаты): \n",
      "4              \n",
      "2              \n",
      "Данные по координатам 2, 4: Marie Green\n"
     ]
    }
   ],
   "source": [
    "import csv\n",
    "\n",
    "def printArray(string, arr):\n",
    "    print(string)\n",
    "    for i in range(0, len(arr)):\n",
    "        for j in range(0, len(arr[i])):\n",
    "            print(arr[i][j], end='              ')\n",
    "        print()\n",
    "\n",
    "file_1 = csv.reader(open(\"file_1.csv\"), delimiter=\";\", quotechar='\"')\n",
    "file_2 = csv.reader(open(\"file_2.csv\"), delimiter=\";\", quotechar='\"')\n",
    "coords = [row for row in file_2][0]\n",
    "y = int(coords[0])\n",
    "x = int(coords[1])\n",
    "data = [row for row in file_1]\n",
    "\n",
    "printArray('Таблица 1(данные): ', data)\n",
    "printArray('Таблица 2(координаты): ', coords)\n",
    "print(f\"Данные по координатам {x}, {y}: {data[y][x]}\")"
   ]
  }
 ],
 "metadata": {
  "kernelspec": {
   "display_name": "Python 3 (ipykernel)",
   "language": "python",
   "name": "python3"
  },
  "language_info": {
   "codemirror_mode": {
    "name": "ipython",
    "version": 3
   },
   "file_extension": ".py",
   "mimetype": "text/x-python",
   "name": "python",
   "nbconvert_exporter": "python",
   "pygments_lexer": "ipython3",
   "version": "3.10.9"
  }
 },
 "nbformat": 4,
 "nbformat_minor": 5
}
